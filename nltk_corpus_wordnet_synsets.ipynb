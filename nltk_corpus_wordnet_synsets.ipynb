{
  "nbformat": 4,
  "nbformat_minor": 0,
  "metadata": {
    "colab": {
      "name": "nltk.corpus.wordnet.synsets",
      "version": "0.3.2",
      "provenance": [],
      "collapsed_sections": [],
      "include_colab_link": true
    },
    "kernelspec": {
      "name": "python3",
      "display_name": "Python 3"
    }
  },
  "cells": [
    {
      "cell_type": "markdown",
      "metadata": {
        "id": "view-in-github",
        "colab_type": "text"
      },
      "source": [
        "<a href=\"https://colab.research.google.com/github/git-siddhesh/Data_Science-dataprocessing-/blob/supervisedML/nltk_corpus_wordnet_synsets.ipynb\" target=\"_parent\"><img src=\"https://colab.research.google.com/assets/colab-badge.svg\" alt=\"Open In Colab\"/></a>"
      ]
    },
    {
      "cell_type": "code",
      "metadata": {
        "id": "y-cXe6i6he8x",
        "colab_type": "code",
        "outputId": "d965627f-38f7-4107-e9d3-e14138165ad4",
        "colab": {
          "base_uri": "https://localhost:8080/",
          "height": 34
        }
      },
      "source": [
        "from nltk.corpus import wordnet\n",
        "import time\n",
        "ws = wordnet.synsets('work')\n",
        "ws    # print the synonyms of work\n",
        "ws[0].definition()\n",
        "ws[4].definition()\n",
        "\n",
        "ws[0].examples()\n"
      ],
      "execution_count": 0,
      "outputs": [
        {
          "output_type": "execute_result",
          "data": {
            "text/plain": [
              "['she checked several points needing further work']"
            ]
          },
          "metadata": {
            "tags": []
          },
          "execution_count": 7
        }
      ]
    },
    {
      "cell_type": "code",
      "metadata": {
        "id": "mmd2wNE-htZc",
        "colab_type": "code",
        "colab": {}
      },
      "source": [
        "# exploring all the books\n",
        "msg = input(\"Enter your keyword : \")\n",
        "ws = wordnet.synsets('work')\n",
        "for i in wordnet.synsets(msg):\n",
        "  print(i.definition())\n",
        "  print('----------------')\n",
        "  print(i.examples())\n",
        "  time.sleep(1)"
      ],
      "execution_count": 0,
      "outputs": []
    },
    {
      "cell_type": "code",
      "metadata": {
        "id": "REtbXYsVi6Y_",
        "colab_type": "code",
        "colab": {}
      },
      "source": [
        "\n",
        "\n",
        "\n",
        "\n",
        "\n",
        "\n",
        "\n",
        "\n",
        "'''Notes : \n",
        "Chatbot: \n",
        "    Dialogflow\n",
        "    Rasa\n",
        "    Watson \n",
        "    Microsoft Bond\n",
        "\n",
        "'''"
      ],
      "execution_count": 0,
      "outputs": []
    }
  ]
}