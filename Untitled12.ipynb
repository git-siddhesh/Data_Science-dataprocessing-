{
  "nbformat": 4,
  "nbformat_minor": 0,
  "metadata": {
    "colab": {
      "name": "Untitled12.ipynb",
      "version": "0.3.2",
      "provenance": [],
      "collapsed_sections": []
    },
    "kernelspec": {
      "name": "python3",
      "display_name": "Python 3"
    }
  },
  "cells": [
    {
      "cell_type": "code",
      "metadata": {
        "id": "54t-AvXPqOJh",
        "colab_type": "code",
        "colab": {}
      },
      "source": [
        "!pip install twilio==6.0"
      ],
      "execution_count": 0,
      "outputs": []
    },
    {
      "cell_type": "markdown",
      "metadata": {
        "id": "GFUMfywad57b",
        "colab_type": "text"
      },
      "source": [
        "#To Send a Text Message"
      ]
    },
    {
      "cell_type": "markdown",
      "metadata": {
        "id": "arZ64M6Jd5gl",
        "colab_type": "text"
      },
      "source": [
        ""
      ]
    },
    {
      "cell_type": "code",
      "metadata": {
        "id": "5MT_BtrDq7w1",
        "colab_type": "code",
        "outputId": "194aa7c7-37b8-4625-bfef-6bfcdde069ba",
        "colab": {
          "base_uri": "https://localhost:8080/",
          "height": 34
        }
      },
      "source": [
        "# Download the helper library from https://www.twilio.com/docs/python/install\n",
        "from twilio.rest import TwilioRestClient as trc\n",
        "\n",
        "\n",
        "# Your Account Sid and Auth Token from twilio.com/console\n",
        "# DANGER! This is insecure. See http://twil.io/secure\n",
        "account_sid = 'AC8e5a8d60c3b11bbd5105625c5d197dd4'\n",
        "auth_token = '2bb95e7a8a8b10e2db62605613f9cf4f'\n",
        "client = trc(account_sid, auth_token)\n",
        "\n",
        "message = client.messages \\\n",
        "                .create(\n",
        "                     body=\"Join Earth's mightiest heroes. Like Kevin Bacon.\",\n",
        "                     from_='+13345183949',\n",
        "                     to='+919587476395'\n",
        "                 )\n",
        "\n",
        "print(message.sid)"
      ],
      "execution_count": 0,
      "outputs": [
        {
          "output_type": "stream",
          "text": [
            "SMe2823a8026b44ca3946cbc23e0692ba6\n"
          ],
          "name": "stdout"
        }
      ]
    },
    {
      "cell_type": "markdown",
      "metadata": {
        "id": "pWqd0SABeBf5",
        "colab_type": "text"
      },
      "source": [
        "#To reply a Message"
      ]
    },
    {
      "cell_type": "code",
      "metadata": {
        "id": "_cfB3MTVwWrE",
        "colab_type": "code",
        "colab": {}
      },
      "source": [
        "\n",
        "# /usr/bin/env python\n",
        "# Download the twilio-python library from twilio.com/docs/libraries/python\n",
        "from flask import Flask, request\n",
        "from twilio.twiml.messaging_response import MessagingResponse\n",
        "\n",
        "app = Flask(__name__)\n",
        "\n",
        "@app.route(\"/sms\", methods=['GET', 'POST'])\n",
        "def sms_ahoy_reply():\n",
        "    \"\"\"Respond to incoming messages with a friendly SMS.\"\"\"\n",
        "    # Start our response\n",
        "    resp = MessagingResponse()\n",
        "\n",
        "    # Add a message\n",
        "    resp.message(\"Ahoy! Thanks so much for your message.\")\n",
        "\n",
        "    return str(resp)\n",
        "\n",
        "if __name__ == \"__main__\":\n",
        "    app.run(debug=True)"
      ],
      "execution_count": 0,
      "outputs": []
    },
    {
      "cell_type": "markdown",
      "metadata": {
        "id": "BIeL_ikteJj7",
        "colab_type": "text"
      },
      "source": [
        "#To make a Call"
      ]
    },
    {
      "cell_type": "code",
      "metadata": {
        "id": "j0raaY5iAuZW",
        "colab_type": "code",
        "colab": {}
      },
      "source": [
        "# Download the helper library from https://www.twilio.com/docs/python/install\n",
        "from twilio.rest import TwilioRestClient as trc\n",
        "\n",
        "\n",
        "# Your Account Sid and Auth Token from twilio.com/console\n",
        "# DANGER! This is insecure. See http://twil.io/secure\n",
        "account_sid = 'AC8e5a8d60c3b11bbd5105625c5d197dd4'\n",
        "auth_token = '2bb95e7a8a8b10e2db62605613f9cf4f'\n",
        "client = trc(account_sid, auth_token)\n",
        "\n",
        "call = client.calls.create(\n",
        "                        url='http://demo.twilio.com/docs/voice.xml',\n",
        "                        to='+919587476395',\n",
        "                        from_='+13345183949'\n",
        "                    )\n",
        "\n",
        "print(call.sid)"
      ],
      "execution_count": 0,
      "outputs": []
    },
    {
      "cell_type": "code",
      "metadata": {
        "id": "3sGYHkNoCTrz",
        "colab_type": "code",
        "colab": {}
      },
      "source": [
        "!git clone https://github.com/sowmyadvn/Crime-Detection--using-Deep-learning.git"
      ],
      "execution_count": 0,
      "outputs": []
    },
    {
      "cell_type": "code",
      "metadata": {
        "id": "VYnSuupOIHzV",
        "colab_type": "code",
        "colab": {}
      },
      "source": [
        "%cd python"
      ],
      "execution_count": 0,
      "outputs": []
    },
    {
      "cell_type": "code",
      "metadata": {
        "id": "w25cfiaaJbg7",
        "colab_type": "code",
        "colab": {}
      },
      "source": [
        "!python darknet.py"
      ],
      "execution_count": 0,
      "outputs": []
    },
    {
      "cell_type": "code",
      "metadata": {
        "id": "vSUOEedQKAEP",
        "colab_type": "code",
        "colab": {}
      },
      "source": [
        ""
      ],
      "execution_count": 0,
      "outputs": []
    },
    {
      "cell_type": "code",
      "metadata": {
        "id": "1nuXRct_JvMq",
        "colab_type": "code",
        "outputId": "8b498338-860c-4553-9781-b497d6c1482a",
        "colab": {
          "base_uri": "https://localhost:8080/",
          "height": 85
        }
      },
      "source": [
        "!git clone https://github.com/JYang25/opencv_demo.git"
      ],
      "execution_count": 0,
      "outputs": [
        {
          "output_type": "stream",
          "text": [
            "Cloning into 'opencv_demo'...\n",
            "remote: Enumerating objects: 8, done.\u001b[K\n",
            "remote: Total 8 (delta 0), reused 0 (delta 0), pack-reused 8\n",
            "Unpacking objects: 100% (8/8), done.\n"
          ],
          "name": "stdout"
        }
      ]
    },
    {
      "cell_type": "code",
      "metadata": {
        "id": "6kgumSjAevlT",
        "colab_type": "code",
        "outputId": "9e7a21fa-b05d-4fa5-ec6d-b49d0e3aa8b2",
        "colab": {
          "base_uri": "https://localhost:8080/",
          "height": 34
        }
      },
      "source": [
        "%cd opencv_demo/"
      ],
      "execution_count": 0,
      "outputs": [
        {
          "output_type": "stream",
          "text": [
            "/content/opencv_demo\n"
          ],
          "name": "stdout"
        }
      ]
    },
    {
      "cell_type": "code",
      "metadata": {
        "id": "FsKzLFaofER-",
        "colab_type": "code",
        "outputId": "367cf88f-5576-4aa2-e4a7-ac6671245392",
        "colab": {
          "base_uri": "https://localhost:8080/",
          "height": 34
        }
      },
      "source": [
        "!python video_recognition.py"
      ],
      "execution_count": 0,
      "outputs": [
        {
          "output_type": "stream",
          "text": [
            ": cannot connect to X server \n"
          ],
          "name": "stdout"
        }
      ]
    },
    {
      "cell_type": "code",
      "metadata": {
        "id": "LaCLukF1fLkh",
        "colab_type": "code",
        "colab": {}
      },
      "source": [
        "'''\n",
        "This script is to apply trained model to detect guns in a video clip\n",
        "Author: Jizhou Yang\n",
        "'''\n",
        "\n",
        "\n",
        "import numpy as np\n",
        "import cv2\n",
        "import imutils\n",
        "import datetime\n",
        "\n",
        "gun_cascade = cv2.CascadeClassifier('cascade.xml')\n",
        "camera = cv2.VideoCapture('data/gun4_2.mp4')\n",
        "\n",
        "# initialize the first frame in the video stream\n",
        "firstFrame = None\n",
        "\n",
        "# loop over the frames of the video\n",
        "\n",
        "gun_exist = False\n",
        "\n",
        "while True:\n",
        "    (grabbed, frame) = camera.read()\n",
        "\n",
        "    # if the frame could not be grabbed, then we have reached the end of the video\n",
        "    if not grabbed:\n",
        "        break\n",
        "\n",
        "    # resize the frame, convert it to grayscale, and blur it\n",
        "    frame = imutils.resize(frame, width=500)\n",
        "    gray = cv2.cvtColor(frame, cv2.COLOR_BGR2GRAY)\n",
        "    gray = cv2.GaussianBlur(gray, (21, 21), 0)\n",
        "    \n",
        "    gun = gun_cascade.detectMultiScale(gray, 1.3, 5, minSize = (100, 100))\n",
        "    \n",
        "    if len(gun) > 0:\n",
        "        gun_exist = True\n",
        "        \n",
        "    for (x,y,w,h) in gun:\n",
        "        frame = cv2.rectangle(frame,(x,y),(x+w,y+h),(255,0,0),2)\n",
        "        roi_gray = gray[y:y+h, x:x+w]\n",
        "        roi_color = frame[y:y+h, x:x+w]    \n",
        "\n",
        "    # if the first frame is None, initialize it\n",
        "    if firstFrame is None:\n",
        "        firstFrame = gray\n",
        "        continue\n",
        "\n",
        "    # draw the text and timestamp on the frame\n",
        "    cv2.putText(frame, datetime.datetime.now().strftime(\"%A %d %B %Y %I:%M:%S%p\"),\n",
        "                    (10, frame.shape[0] - 10), cv2.FONT_HERSHEY_SIMPLEX, 0.35, (0, 0, 255), 1)\n",
        "\n",
        "    # show the frame and record if the user presses a key\n",
        "    cv2.imshow(\"Security Feed\", frame)\n",
        "    key = cv2.waitKey(1) & 0xFF\n",
        "\n",
        "if gun_exist:\n",
        "    print(\"guns detected\")\n",
        "else:\n",
        "    print(\"guns NOT detected\")\n",
        "\n",
        "# cleanup the camera and close any open windows\n",
        "camera.release()\n",
        "cv2.destroyAllWindows()\n",
        "\n",
        "\n",
        "\n",
        "\n",
        "\n",
        "\n"
      ],
      "execution_count": 0,
      "outputs": []
    },
    {
      "cell_type": "code",
      "metadata": {
        "id": "zZSMWpOWhWIR",
        "colab_type": "code",
        "outputId": "c5d37431-c21c-4c20-ea8d-119ce0551f4f",
        "colab": {
          "base_uri": "https://localhost:8080/",
          "height": 34
        }
      },
      "source": [
        "%cd .."
      ],
      "execution_count": 0,
      "outputs": [
        {
          "output_type": "stream",
          "text": [
            "/content\n"
          ],
          "name": "stdout"
        }
      ]
    },
    {
      "cell_type": "code",
      "metadata": {
        "id": "WswNb0lkhbeG",
        "colab_type": "code",
        "colab": {}
      },
      "source": [
        "!wget http://kt.agh.edu.pl/matiolanski/KnivesImagesDatabase/KnivesImagesDatabase.rar\n",
        "!unrar e KnivesImagesDatabase.rar"
      ],
      "execution_count": 0,
      "outputs": []
    },
    {
      "cell_type": "code",
      "metadata": {
        "id": "vebvHiI5hwko",
        "colab_type": "code",
        "colab": {}
      },
      "source": [
        "!unrar e KnivesImagesDatabase.rar"
      ],
      "execution_count": 0,
      "outputs": []
    }
  ]
}