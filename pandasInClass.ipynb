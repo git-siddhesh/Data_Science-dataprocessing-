{
  "nbformat": 4,
  "nbformat_minor": 0,
  "metadata": {
    "colab": {
      "name": "pandasInClass",
      "version": "0.3.2",
      "provenance": [],
      "collapsed_sections": [],
      "include_colab_link": true
    },
    "kernelspec": {
      "name": "python3",
      "display_name": "Python 3"
    }
  },
  "cells": [
    {
      "cell_type": "markdown",
      "metadata": {
        "id": "view-in-github",
        "colab_type": "text"
      },
      "source": [
        "<a href=\"https://colab.research.google.com/github/git-siddhesh/Data_Science-dataprocessing-/blob/Data_processing/pandasInClass.ipynb\" target=\"_parent\"><img src=\"https://colab.research.google.com/assets/colab-badge.svg\" alt=\"Open In Colab\"/></a>"
      ]
    },
    {
      "cell_type": "code",
      "metadata": {
        "id": "RNl29wCEJ6oZ",
        "colab_type": "code",
        "colab": {}
      },
      "source": [
        "import pandas as pd\n",
        "\n",
        "#reading data from csv file\n",
        "df=pd.read_csv('com.csv')\n",
        "#df2=pd.read_csv('http://13.234.66.67/summer19/datasets/salary.csv')\n",
        "#df2    #to print the complete data \n",
        "df\n",
        "\n",
        "#to print the information of the data\n",
        "#df.info()"
      ],
      "execution_count": 0,
      "outputs": []
    },
    {
      "cell_type": "code",
      "metadata": {
        "id": "3roFU8-sNJHt",
        "colab_type": "code",
        "colab": {}
      },
      "source": [
        "#to print particular coloumn\n",
        "df['Name']\n",
        "#to print the values of the name as array\n",
        "df['Name'].values"
      ],
      "execution_count": 0,
      "outputs": []
    },
    {
      "cell_type": "code",
      "metadata": {
        "id": "F7FbUHq5LkCx",
        "colab_type": "code",
        "colab": {}
      },
      "source": [
        "#top 3v rows \n",
        "\n",
        "#df2.head(3)\n",
        "df.tail(3)"
      ],
      "execution_count": 0,
      "outputs": []
    },
    {
      "cell_type": "code",
      "metadata": {
        "id": "rG6IMBKSNsTm",
        "colab_type": "code",
        "colab": {}
      },
      "source": [
        "#for selecting particular rows and column\n",
        "df.iloc[0:,[0,2]]"
      ],
      "execution_count": 0,
      "outputs": []
    },
    {
      "cell_type": "code",
      "metadata": {
        "id": "bdbxo_MxOFSO",
        "colab_type": "code",
        "colab": {}
      },
      "source": [
        "#to know the things you can do with df['Salary']\n",
        "dir(df['Salary'])"
      ],
      "execution_count": 0,
      "outputs": []
    },
    {
      "cell_type": "code",
      "metadata": {
        "id": "ZMq60ypLOBE4",
        "colab_type": "code",
        "colab": {}
      },
      "source": [
        "#to print max() or min(),avg(),mean() salary \n",
        "df['Salary'].mean()"
      ],
      "execution_count": 0,
      "outputs": []
    },
    {
      "cell_type": "code",
      "metadata": {
        "id": "RejKrl8FPtC2",
        "colab_type": "code",
        "colab": {}
      },
      "source": [
        "df.values\n",
        "#data in the rows and columns are just set of lists of same size"
      ],
      "execution_count": 0,
      "outputs": []
    },
    {
      "cell_type": "code",
      "metadata": {
        "id": "MwTid5BtQJzf",
        "colab_type": "code",
        "colab": {}
      },
      "source": [
        ""
      ],
      "execution_count": 0,
      "outputs": []
    },
    {
      "cell_type": "markdown",
      "metadata": {
        "id": "-cnQUkU6HnMV",
        "colab_type": "text"
      },
      "source": [
        "#practice on pandas"
      ]
    },
    {
      "cell_type": "markdown",
      "metadata": {
        "id": "27oJddzaJuxB",
        "colab_type": "text"
      },
      "source": [
        "*Converting dict. to df*"
      ]
    },
    {
      "cell_type": "code",
      "metadata": {
        "id": "wQOCOLt4Hlvp",
        "colab_type": "code",
        "outputId": "d6ac624f-0a33-466f-8292-654ff3806fd2",
        "colab": {
          "base_uri": "https://localhost:8080/",
          "height": 204
        }
      },
      "source": [
        "# importing PANDAS library\n",
        "import pandas as pd\n",
        "\n",
        "#make a dict. of data\n",
        "weather_data={\n",
        "    'day':['1/2/2018','5/3/2018','9/4/2018','14/5/2018','1/2/2018'],\n",
        "    'temp':[32,36,39,42,41]\n",
        "}\n",
        "\n",
        "# now convert this dict. to dataframe as\n",
        "df=pd.DataFrame(weather_data)\n",
        "df"
      ],
      "execution_count": 0,
      "outputs": [
        {
          "output_type": "execute_result",
          "data": {
            "text/html": [
              "<div>\n",
              "<style scoped>\n",
              "    .dataframe tbody tr th:only-of-type {\n",
              "        vertical-align: middle;\n",
              "    }\n",
              "\n",
              "    .dataframe tbody tr th {\n",
              "        vertical-align: top;\n",
              "    }\n",
              "\n",
              "    .dataframe thead th {\n",
              "        text-align: right;\n",
              "    }\n",
              "</style>\n",
              "<table border=\"1\" class=\"dataframe\">\n",
              "  <thead>\n",
              "    <tr style=\"text-align: right;\">\n",
              "      <th></th>\n",
              "      <th>day</th>\n",
              "      <th>temp</th>\n",
              "    </tr>\n",
              "  </thead>\n",
              "  <tbody>\n",
              "    <tr>\n",
              "      <th>0</th>\n",
              "      <td>1/2/2018</td>\n",
              "      <td>32</td>\n",
              "    </tr>\n",
              "    <tr>\n",
              "      <th>1</th>\n",
              "      <td>5/3/2018</td>\n",
              "      <td>36</td>\n",
              "    </tr>\n",
              "    <tr>\n",
              "      <th>2</th>\n",
              "      <td>9/4/2018</td>\n",
              "      <td>39</td>\n",
              "    </tr>\n",
              "    <tr>\n",
              "      <th>3</th>\n",
              "      <td>14/5/2018</td>\n",
              "      <td>42</td>\n",
              "    </tr>\n",
              "    <tr>\n",
              "      <th>4</th>\n",
              "      <td>1/2/2018</td>\n",
              "      <td>41</td>\n",
              "    </tr>\n",
              "  </tbody>\n",
              "</table>\n",
              "</div>"
            ],
            "text/plain": [
              "         day  temp\n",
              "0   1/2/2018    32\n",
              "1   5/3/2018    36\n",
              "2   9/4/2018    39\n",
              "3  14/5/2018    42\n",
              "4   1/2/2018    41"
            ]
          },
          "metadata": {
            "tags": []
          },
          "execution_count": 28
        }
      ]
    },
    {
      "cell_type": "markdown",
      "metadata": {
        "id": "bjK7zTQCR6uZ",
        "colab_type": "text"
      },
      "source": [
        "*Verifying some of the function with df*"
      ]
    },
    {
      "cell_type": "code",
      "metadata": {
        "id": "Hvt2wqXNI0VN",
        "colab_type": "code",
        "outputId": "4aa32409-cd3b-4259-b90a-4e4a3196697a",
        "colab": {
          "base_uri": "https://localhost:8080/",
          "height": 34
        }
      },
      "source": [
        "# df.shape returns two values \n",
        "r,c = df.shape\n",
        "#first value is no of rows and 2nd value is no of cols\n",
        "\n",
        "df.dtypes\n",
        "# print the datatype of each cols and of complete dataframe \n",
        "\n",
        "# to print particular rows from top or bottom \n",
        "df.head(2)   # It will print top 2 rows\n",
        "df.tail(2)   # It will print bottom 2 rows\n",
        "\n",
        "# print a range of rows\n",
        "df[1:3]      # It will print 3-1=2 rows [1,3)\n",
        "\n",
        "\n",
        "# If we want to print Index name of cols\n",
        "df.columns\n",
        "\n",
        "# if we want to print or extract the data of a particular col\n",
        "df.day\n",
        "\n",
        "# We can convert the col data into ndarray as\n",
        "import numpy as np\n",
        "a=np.asarray(df.day)    \n",
        "a\n",
        "\n",
        "# To describe the df properties such as count, mean, 50%, 25%, etc in a row\n",
        "df.describe()\n",
        "# .min(), .max(), .avg(), .mean(), .std(), .var(), etc\n",
        "\n",
        "\n",
        "# To print the index nos start, stop, and step size\n",
        "df.index\n",
        "\n"
      ],
      "execution_count": 0,
      "outputs": [
        {
          "output_type": "execute_result",
          "data": {
            "text/plain": [
              "RangeIndex(start=0, stop=5, step=1)"
            ]
          },
          "metadata": {
            "tags": []
          },
          "execution_count": 36
        }
      ]
    },
    {
      "cell_type": "markdown",
      "metadata": {
        "id": "8RQ6OsSFRxhQ",
        "colab_type": "text"
      },
      "source": [
        "*Change the index col  and  condition on col*"
      ]
    },
    {
      "cell_type": "code",
      "metadata": {
        "id": "-nfYhiHkKFL7",
        "colab_type": "code",
        "outputId": "a7c33652-e8e9-409e-b3ab-be0e32645f69",
        "colab": {
          "base_uri": "https://localhost:8080/",
          "height": 130
        }
      },
      "source": [
        "df.set_index('day',inplace=True)\n",
        "df\n",
        "df.reset_index(inplace=True)\n",
        "\n",
        "Very very important (this error is to attract you)\n",
        "# If we want to apply some condition on any col\n",
        "# Note that it will print the entire row\n",
        "df[df.temp>35]\n",
        "# to print particular col(s)\n",
        "df[['day','temp']][df.temp==df['temp'].max()]"
      ],
      "execution_count": 0,
      "outputs": [
        {
          "output_type": "error",
          "ename": "SyntaxError",
          "evalue": "ignored",
          "traceback": [
            "\u001b[0;36m  File \u001b[0;32m\"<ipython-input-37-8c19aff51b74>\"\u001b[0;36m, line \u001b[0;32m5\u001b[0m\n\u001b[0;31m    Very very important (this error is to attract you)\u001b[0m\n\u001b[0m            ^\u001b[0m\n\u001b[0;31mSyntaxError\u001b[0m\u001b[0;31m:\u001b[0m invalid syntax\n"
          ]
        }
      ]
    },
    {
      "cell_type": "markdown",
      "metadata": {
        "id": "D-qCQTQ3TqOv",
        "colab_type": "text"
      },
      "source": [
        "*Slicing of dataframe*"
      ]
    },
    {
      "cell_type": "code",
      "metadata": {
        "id": "UeXPIT4jTni2",
        "colab_type": "code",
        "colab": {}
      },
      "source": [
        ""
      ],
      "execution_count": 0,
      "outputs": []
    }
  ]
}