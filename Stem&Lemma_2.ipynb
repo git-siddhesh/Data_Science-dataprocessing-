{
  "nbformat": 4,
  "nbformat_minor": 0,
  "metadata": {
    "colab": {
      "name": "Stem&Lemma-2",
      "version": "0.3.2",
      "provenance": [],
      "collapsed_sections": [],
      "include_colab_link": true
    },
    "kernelspec": {
      "name": "python3",
      "display_name": "Python 3"
    }
  },
  "cells": [
    {
      "cell_type": "markdown",
      "metadata": {
        "id": "view-in-github",
        "colab_type": "text"
      },
      "source": [
        "<a href=\"https://colab.research.google.com/github/git-siddhesh/Data_Science-dataprocessing-/blob/supervisedML/Stem%26Lemma_2.ipynb\" target=\"_parent\"><img src=\"https://colab.research.google.com/assets/colab-badge.svg\" alt=\"Open In Colab\"/></a>"
      ]
    },
    {
      "cell_type": "code",
      "metadata": {
        "id": "9nnF54fqaF-E",
        "colab_type": "code",
        "outputId": "46ca3242-d73a-4f8c-c7ee-5ffc42d55e5e",
        "colab": {
          "base_uri": "https://localhost:8080/",
          "height": 115
        }
      },
      "source": [
        "import nltk\n",
        "nltk.download('punkt')\n",
        "nltk.download('wordnet')\n",
        "nltk.download('stopwords')\n",
        "from nltk.tokenize import sent_tokenize,word_tokenize\n",
        "from nltk.stem import PorterStemmer,WordNetLemmatizer\n",
        "from nltk.corpus import stopwords"
      ],
      "execution_count": 0,
      "outputs": [
        {
          "output_type": "stream",
          "text": [
            "[nltk_data] Downloading package punkt to /root/nltk_data...\n",
            "[nltk_data]   Package punkt is already up-to-date!\n",
            "[nltk_data] Downloading package wordnet to /root/nltk_data...\n",
            "[nltk_data]   Unzipping corpora/wordnet.zip.\n",
            "[nltk_data] Downloading package stopwords to /root/nltk_data...\n",
            "[nltk_data]   Package stopwords is already up-to-date!\n"
          ],
          "name": "stdout"
        }
      ]
    },
    {
      "cell_type": "code",
      "metadata": {
        "id": "uaqhNzp3afac",
        "colab_type": "code",
        "outputId": "89368d56-8429-4687-90ad-94e549862cc4",
        "colab": {
          "base_uri": "https://localhost:8080/",
          "height": 196
        }
      },
      "source": [
        "data=\"Hello world this is siddhesh. I'm going to banswara, i love playing cricket \"\n",
        "tdata=word_tokenize(data)\n",
        "removedata=[i for i in tdata if i.lower() not in stopwords.words('english')]\n",
        "removedata"
      ],
      "execution_count": 0,
      "outputs": [
        {
          "output_type": "execute_result",
          "data": {
            "text/plain": [
              "['Hello',\n",
              " 'world',\n",
              " 'siddhesh',\n",
              " '.',\n",
              " \"'m\",\n",
              " 'goin',\n",
              " 'banswara',\n",
              " ',',\n",
              " 'love',\n",
              " 'playing',\n",
              " 'cricket']"
            ]
          },
          "metadata": {
            "tags": []
          },
          "execution_count": 22
        }
      ]
    },
    {
      "cell_type": "code",
      "metadata": {
        "id": "Nd4xJFmLbL0w",
        "colab_type": "code",
        "outputId": "7bb2f7b2-d53f-4dd1-f531-93612674eeda",
        "colab": {
          "base_uri": "https://localhost:8080/",
          "height": 196
        }
      },
      "source": [
        "pt = PorterStemmer()\n",
        "for i in removedata:\n",
        "  print(i,\"stemmed into : \",pt.stem(i))"
      ],
      "execution_count": 0,
      "outputs": [
        {
          "output_type": "stream",
          "text": [
            "Hello stemmed into :  hello\n",
            "world stemmed into :  world\n",
            "siddhesh stemmed into :  siddhesh\n",
            ". stemmed into :  .\n",
            "'m stemmed into :  'm\n",
            "goin stemmed into :  goin\n",
            "banswara stemmed into :  banswara\n",
            ", stemmed into :  ,\n",
            "love stemmed into :  love\n",
            "playing stemmed into :  play\n",
            "cricket stemmed into :  cricket\n"
          ],
          "name": "stdout"
        }
      ]
    },
    {
      "cell_type": "code",
      "metadata": {
        "id": "opClZL1Vb7HF",
        "colab_type": "code",
        "outputId": "9476de7a-b329-4821-e297-26b6244f354e",
        "colab": {
          "base_uri": "https://localhost:8080/",
          "height": 196
        }
      },
      "source": [
        "# lemme\n",
        "\n",
        "wl = WordNetLemmatizer()\n",
        "for i in removedata:\n",
        "  print(wl.lemmatize(i))"
      ],
      "execution_count": 0,
      "outputs": [
        {
          "output_type": "stream",
          "text": [
            "Hello\n",
            "world\n",
            "siddhesh\n",
            ".\n",
            "'m\n",
            "goin\n",
            "banswara\n",
            ",\n",
            "love\n",
            "playing\n",
            "cricket\n"
          ],
          "name": "stdout"
        }
      ]
    },
    {
      "cell_type": "code",
      "metadata": {
        "id": "RNZByqlhcuU9",
        "colab_type": "code",
        "colab": {}
      },
      "source": [
        ""
      ],
      "execution_count": 0,
      "outputs": []
    }
  ]
}