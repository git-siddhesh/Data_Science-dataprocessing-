{
  "nbformat": 4,
  "nbformat_minor": 0,
  "metadata": {
    "colab": {
      "name": "day1matplotlib",
      "version": "0.3.2",
      "provenance": [],
      "collapsed_sections": [],
      "include_colab_link": true
    },
    "kernelspec": {
      "name": "python3",
      "display_name": "Python 3"
    }
  },
  "cells": [
    {
      "cell_type": "markdown",
      "metadata": {
        "id": "view-in-github",
        "colab_type": "text"
      },
      "source": [
        "<a href=\"https://colab.research.google.com/github/git-siddhesh/Data_Science-dataprocessing-/blob/Data_processing/day1matplotlib.ipynb\" target=\"_parent\"><img src=\"https://colab.research.google.com/assets/colab-badge.svg\" alt=\"Open In Colab\"/></a>"
      ]
    },
    {
      "cell_type": "code",
      "metadata": {
        "id": "i98BFn1LTlBn",
        "colab_type": "code",
        "colab": {}
      },
      "source": [
        "import matplotlib\n",
        "dir(matplotlib)\n",
        "del matplotlib"
      ],
      "execution_count": 0,
      "outputs": []
    },
    {
      "cell_type": "code",
      "metadata": {
        "id": "DKEgpFjbTv56",
        "colab_type": "code",
        "colab": {}
      },
      "source": [
        "import matplotlib.pyplot as plt\n",
        "x=[1,2]\n",
        "y=[3,4]\n",
        "plt.xlabel(\"time\")\n",
        "plt.ylabel(\"dist\")\n",
        "plt.plot(x,y,label=\"sand\")\n",
        "plt.bar(x,y,label='run')\n",
        "plt.grid(color='green')\n",
        "x=[2,3]\n",
        "y=[4,3]\n",
        "plt.plot(x,y,label='water')\n",
        "plt.legend()\n",
        "\n",
        "plt.xlim(0,5)\n",
        "plt.ylim(3,5)\n",
        "#plt.show(x,y)"
      ],
      "execution_count": 0,
      "outputs": []
    },
    {
      "cell_type": "code",
      "metadata": {
        "id": "Z2az9yjEKICe",
        "colab_type": "code",
        "colab": {}
      },
      "source": [
        ""
      ],
      "execution_count": 0,
      "outputs": []
    },
    {
      "cell_type": "code",
      "metadata": {
        "id": "3wRNGSRRKLRj",
        "colab_type": "code",
        "colab": {}
      },
      "source": [
        ""
      ],
      "execution_count": 0,
      "outputs": []
    }
  ]
}