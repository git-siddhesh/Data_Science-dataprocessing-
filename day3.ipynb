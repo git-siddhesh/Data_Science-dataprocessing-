{
  "nbformat": 4,
  "nbformat_minor": 0,
  "metadata": {
    "colab": {
      "name": "day3.ipynb",
      "version": "0.3.2",
      "provenance": [],
      "collapsed_sections": [],
      "toc_visible": true,
      "include_colab_link": true
    },
    "kernelspec": {
      "name": "python3",
      "display_name": "Python 3"
    }
  },
  "cells": [
    {
      "cell_type": "markdown",
      "metadata": {
        "id": "view-in-github",
        "colab_type": "text"
      },
      "source": [
        "<a href=\"https://colab.research.google.com/github/git-siddhesh/Data_Science-dataprocessing-/blob/Data_processing/day3.ipynb\" target=\"_parent\"><img src=\"https://colab.research.google.com/assets/colab-badge.svg\" alt=\"Open In Colab\"/></a>"
      ]
    },
    {
      "cell_type": "code",
      "metadata": {
        "id": "ibOF_08tCJtF",
        "colab_type": "code",
        "colab": {
          "base_uri": "https://localhost:8080/",
          "height": 469
        },
        "outputId": "fa965ba5-350c-46d2-eef8-b6a4721ee787"
      },
      "source": [
        "import matplotlib.pyplot as plt\n",
        "import numpy as np\n",
        "x=[1,2,3,4]\n",
        "y=['a','b','c','d']\n",
        "exp=[0.3,0,0,0.1]\n",
        "#plt.plot(x,y)\n",
        "#plt.xlabel(\"x-axis\")\n",
        "plt.ylabel(\"y-axis\")\n",
        "plt.scatter(x,y)\n",
        "plt.pie(x,labels=y,explode=exp,shadow='True',autopct='%3.1f%%')\n",
        "\n"
      ],
      "execution_count": 1,
      "outputs": [
        {
          "output_type": "execute_result",
          "data": {
            "text/plain": [
              "([<matplotlib.patches.Wedge at 0x7f5acc4dfbe0>,\n",
              "  <matplotlib.patches.Wedge at 0x7f5ac9c7d710>,\n",
              "  <matplotlib.patches.Wedge at 0x7f5ac9c890f0>,\n",
              "  <matplotlib.patches.Wedge at 0x7f5ac9c89a90>],\n",
              " [Text(1.3314791207879568, 0.4326237983580301, 'a'),\n",
              "  Text(0.33991867422268784, 1.0461621742897658, 'b'),\n",
              "  Text(-1.0461621902025062, 0.3399186252483017, 'c'),\n",
              "  Text(0.37082053215910016, -1.1412677744198518, 'd')],\n",
              " [Text(0.8559508633636865, 0.27811529894444786, '10.0%'),\n",
              "  Text(0.1854101859396479, 0.5706339132489631, '20.0%'),\n",
              "  Text(-0.5706339219286397, 0.18541015922634638, '30.0%'),\n",
              "  Text(0.2163119770928084, -0.6657395350782469, '40.0%')])"
            ]
          },
          "metadata": {
            "tags": []
          },
          "execution_count": 1
        },
        {
          "output_type": "display_data",
          "data": {
            "image/png": "[encoded data removed]",
            "text/plain": [
              "<Figure size 432x288 with 1 Axes>"
            ]
          },
          "metadata": {
            "tags": []
          }
        }
      ]
    },
    {
      "cell_type": "code",
      "metadata": {
        "id": "sxR2PpYOLF9D",
        "colab_type": "code",
        "colab": {}
      },
      "source": [
        ""
      ],
      "execution_count": 0,
      "outputs": []
    },
    {
      "cell_type": "code",
      "metadata": {
        "id": "FthugmCIDYDo",
        "colab_type": "code",
        "colab": {}
      },
      "source": [
        ""
      ],
      "execution_count": 0,
      "outputs": []
    }
  ]
}