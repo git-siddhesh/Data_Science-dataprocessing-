{
  "nbformat": 4,
  "nbformat_minor": 0,
  "metadata": {
    "colab": {
      "name": "StemmingAndLemmetization",
      "version": "0.3.2",
      "provenance": [],
      "include_colab_link": true
    },
    "kernelspec": {
      "name": "python3",
      "display_name": "Python 3"
    }
  },
  "cells": [
    {
      "cell_type": "markdown",
      "metadata": {
        "id": "view-in-github",
        "colab_type": "text"
      },
      "source": [
        "<a href=\"https://colab.research.google.com/github/git-siddhesh/Data_Science-dataprocessing-/blob/supervisedML/StemmingAndLemmetization.ipynb\" target=\"_parent\"><img src=\"https://colab.research.google.com/assets/colab-badge.svg\" alt=\"Open In Colab\"/></a>"
      ]
    },
    {
      "cell_type": "code",
      "metadata": {
        "id": "fbYwTUh2dkK_",
        "colab_type": "code",
        "colab": {}
      },
      "source": [
        "from nltk import stem\n",
        "from nltk.stem import PorterStemmer   # for stemming\n",
        "from nltk.stem import WordNetLemmatizer   # for lemmatization\n",
        "import time\n",
        "#stemming\n",
        "port = PorterStemmer()"
      ],
      "execution_count": 0,
      "outputs": []
    },
    {
      "cell_type": "code",
      "metadata": {
        "id": "54jQ8QvveZ2r",
        "colab_type": "code",
        "outputId": "c25eec1f-a46a-4e0f-b166-525e5d6e7195",
        "colab": {
          "base_uri": "https://localhost:8080/",
          "height": 131
        }
      },
      "source": [
        "# word supply\n",
        "for i in ['going','goes','gone','go','intelligent','intelligence','intelligently']:\n",
        "  print(port.stem(i))\n",
        "  "
      ],
      "execution_count": 0,
      "outputs": [
        {
          "output_type": "stream",
          "text": [
            "go\n",
            "goe\n",
            "gone\n",
            "go\n",
            "intellig\n",
            "intellig\n",
            "intellig\n"
          ],
          "name": "stdout"
        }
      ]
    },
    {
      "cell_type": "code",
      "metadata": {
        "id": "Xd90dngHf825",
        "colab_type": "code",
        "colab": {}
      },
      "source": [
        "#### invert of word tokenizer\n",
        "#### news paper summury task--"
      ],
      "execution_count": 0,
      "outputs": []
    }
  ]
}