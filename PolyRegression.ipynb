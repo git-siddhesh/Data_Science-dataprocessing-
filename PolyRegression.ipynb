{
  "nbformat": 4,
  "nbformat_minor": 0,
  "metadata": {
    "colab": {
      "name": "PolyRegression",
      "version": "0.3.2",
      "provenance": [],
      "collapsed_sections": [],
      "include_colab_link": true
    },
    "kernelspec": {
      "name": "python3",
      "display_name": "Python 3"
    }
  },
  "cells": [
    {
      "cell_type": "markdown",
      "metadata": {
        "id": "view-in-github",
        "colab_type": "text"
      },
      "source": [
        "<a href=\"https://colab.research.google.com/github/git-siddhesh/Data_Science-dataprocessing-/blob/supervisedML/PolyRegression.ipynb\" target=\"_parent\"><img src=\"https://colab.research.google.com/assets/colab-badge.svg\" alt=\"Open In Colab\"/></a>"
      ]
    },
    {
      "cell_type": "code",
      "metadata": {
        "id": "kqJlW1iNCxZw",
        "colab_type": "code",
        "colab": {}
      },
      "source": [
        "import pandas as pd \n",
        "import matplotlib.pyplot as plt\n",
        "df=pd.read_csv('salary.csv')\n",
        "exp=df.iloc[:,0:1].values\n",
        "sal=df.iloc[:,1:2].values\n",
        "\n",
        "from sklearn.linear_model import LinearRegression\n",
        "regr=LinearRegression()\n"
      ],
      "execution_count": 0,
      "outputs": []
    },
    {
      "cell_type": "code",
      "metadata": {
        "id": "fQWnFVpxEhZh",
        "colab_type": "code",
        "colab": {}
      },
      "source": [
        "# to transform data we can call poly transform method\n",
        "from sklearn.preprocessing import PolynomialFeatures\n",
        "\n",
        "# transform experience\n",
        "poly=PolynomialFeatures(degree=15)\n",
        "# fit exp\n",
        "newexp=poly.fit_transform(exp)"
      ],
      "execution_count": 0,
      "outputs": []
    },
    {
      "cell_type": "code",
      "metadata": {
        "id": "wsntNAdME-S7",
        "colab_type": "code",
        "outputId": "159da65b-0625-463e-ca6e-db348281bb6a",
        "colab": {
          "base_uri": "https://localhost:8080/",
          "height": 298
        }
      },
      "source": [
        "# Apply linear regression\n",
        "trained1=regr.fit(exp,sal)\n",
        "\n",
        "# now creating liner model again\n",
        "plt.xlabel(\"exp\")\n",
        "plt.ylabel(\"sal\")\n",
        "plt.scatter(exp,sal,label=\"actual data\")\n",
        "plt.plot(exp,trained1.predict(exp),label=\"linear model\")"
      ],
      "execution_count": 0,
      "outputs": [
        {
          "output_type": "execute_result",
          "data": {
            "text/plain": [
              "[<matplotlib.lines.Line2D at 0x7f874bd77c88>]"
            ]
          },
          "metadata": {
            "tags": []
          },
          "execution_count": 49
        },
        {
          "output_type": "display_data",
          "data": {
            "image/png": "[encoded data removed]",
            "text/plain": [
              "<Figure size 432x288 with 1 Axes>"
            ]
          },
          "metadata": {
            "tags": []
          }
        }
      ]
    },
    {
      "cell_type": "code",
      "metadata": {
        "id": "nd14MtRgF7NI",
        "colab_type": "code",
        "outputId": "2e41301b-2058-47c3-94ac-1f2a95691773",
        "colab": {
          "base_uri": "https://localhost:8080/",
          "height": 298
        }
      },
      "source": [
        "# now train the ploynomial data   applying new exp data in model \n",
        "regr2=LinearRegression()\n",
        "trained2=regr2.fit(newexp,sal)\n",
        "\n",
        "# now creating liner model again\n",
        "plt.xlabel(\"newexp\")\n",
        "plt.ylabel(\"sal\")\n",
        "plt.scatter(exp,sal,label=\"actual data\")\n",
        "plt.plot(exp,trained2.predict(newexp),label=\"polynomial model\")\n",
        "plt.legend()\n",
        "\n",
        "\n",
        "\n",
        "# problem the below  graph does not explain anything"
      ],
      "execution_count": 0,
      "outputs": [
        {
          "output_type": "execute_result",
          "data": {
            "text/plain": [
              "<matplotlib.legend.Legend at 0x7f874bbd5f60>"
            ]
          },
          "metadata": {
            "tags": []
          },
          "execution_count": 50
        },
        {
          "output_type": "display_data",
          "data": {
            "image/png": "[encoded data removed]",
            "text/plain": [
              "<Figure size 432x288 with 1 Axes>"
            ]
          },
          "metadata": {
            "tags": []
          }
        }
      ]
    },
    {
      "cell_type": "code",
      "metadata": {
        "id": "7uYdHLgZHKEU",
        "colab_type": "code",
        "colab": {}
      },
      "source": [
        "\n",
        "\n",
        "\n",
        "\n",
        "\n",
        "\n",
        "\n"
      ],
      "execution_count": 0,
      "outputs": []
    },
    {
      "cell_type": "code",
      "metadata": {
        "id": "fkpQOgJEMSxh",
        "colab_type": "code",
        "colab": {}
      },
      "source": [
        ""
      ],
      "execution_count": 0,
      "outputs": []
    }
  ]
}