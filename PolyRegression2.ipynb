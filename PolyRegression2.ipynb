{
  "nbformat": 4,
  "nbformat_minor": 0,
  "metadata": {
    "colab": {
      "name": "PolyRegression2",
      "version": "0.3.2",
      "provenance": [],
      "collapsed_sections": [],
      "include_colab_link": true
    },
    "kernelspec": {
      "name": "python3",
      "display_name": "Python 3"
    }
  },
  "cells": [
    {
      "cell_type": "markdown",
      "metadata": {
        "id": "view-in-github",
        "colab_type": "text"
      },
      "source": [
        "<a href=\"https://colab.research.google.com/github/git-siddhesh/Data_Science-dataprocessing-/blob/supervisedML/PolyRegression2.ipynb\" target=\"_parent\"><img src=\"https://colab.research.google.com/assets/colab-badge.svg\" alt=\"Open In Colab\"/></a>"
      ]
    },
    {
      "cell_type": "code",
      "metadata": {
        "id": "jqURiqW5Kks7",
        "colab_type": "code",
        "colab": {}
      },
      "source": [
        "import pandas as pd \n",
        "import matplotlib.pyplot as plt\n",
        "df=pd.read_csv('http://13.234.66.67/summer19/datasets/pos_sal.csv')\n",
        "lev=df.iloc[:,1:2].values\n",
        "sal=df.iloc[:,2:].values"
      ],
      "execution_count": 0,
      "outputs": []
    },
    {
      "cell_type": "code",
      "metadata": {
        "id": "zuprRIBRPm0j",
        "colab_type": "code",
        "colab": {}
      },
      "source": [
        "# applying linear regression first\n",
        "from sklearn.linear_model import LinearRegression\n",
        "regr=LinearRegression()\n",
        "trained=regr.fit(lev,sal)\n"
      ],
      "execution_count": 0,
      "outputs": []
    },
    {
      "cell_type": "code",
      "metadata": {
        "id": "MF9ejQsIOb4m",
        "colab_type": "code",
        "outputId": "e4d0e8c2-478e-4fda-8b1c-22917167448c",
        "colab": {
          "base_uri": "https://localhost:8080/",
          "height": 298
        }
      },
      "source": [
        "\n",
        "plt.xlabel(\"position\")\n",
        "plt.ylabel(\"sal\")\n",
        "plt.scatter(lev,sal,label=\"actual data\")\n",
        "plt.plot(lev,trained.predict(lev),label=\"linear\")"
      ],
      "execution_count": 0,
      "outputs": [
        {
          "output_type": "execute_result",
          "data": {
            "text/plain": [
              "[<matplotlib.lines.Line2D at 0x7f24d2678e48>]"
            ]
          },
          "metadata": {
            "tags": []
          },
          "execution_count": 20
        },
        {
          "output_type": "display_data",
          "data": {
            "image/png": "[encoded data removed]",
            "text/plain": [
              "<Figure size 432x288 with 1 Axes>"
            ]
          },
          "metadata": {
            "tags": []
          }
        }
      ]
    },
    {
      "cell_type": "code",
      "metadata": {
        "id": "_60sOxiuPKi_",
        "colab_type": "code",
        "colab": {}
      },
      "source": [
        "from sklearn.preprocessing import PolynomialFeatures\n",
        "\n",
        "# transform experience\n",
        "poly=PolynomialFeatures(degree=3)\n",
        "# fit exp     applying data in poly\n",
        "newx=poly.fit_transform(lev)"
      ],
      "execution_count": 0,
      "outputs": []
    },
    {
      "cell_type": "code",
      "metadata": {
        "id": "znGYyQicQXm5",
        "colab_type": "code",
        "colab": {}
      },
      "source": [
        "reg2=LinearRegression()\n",
        "trained2=reg2.fit(newx,sal)"
      ],
      "execution_count": 0,
      "outputs": []
    },
    {
      "cell_type": "code",
      "metadata": {
        "id": "HnU1r6LgQrmX",
        "colab_type": "code",
        "outputId": "4a4613f0-4d29-4dd4-ccbc-729a5269d27f",
        "colab": {
          "base_uri": "https://localhost:8080/",
          "height": 298
        }
      },
      "source": [
        "plt.xlabel(\"position\")\n",
        "plt.ylabel(\"sal\")\n",
        "plt.scatter(lev,sal,label=\"actual data\")\n",
        "plt.plot(lev,trained2.predict(newx),label=\"linear\")"
      ],
      "execution_count": 0,
      "outputs": [
        {
          "output_type": "execute_result",
          "data": {
            "text/plain": [
              "[<matplotlib.lines.Line2D at 0x7f24d25fde80>]"
            ]
          },
          "metadata": {
            "tags": []
          },
          "execution_count": 23
        },
        {
          "output_type": "display_data",
          "data": {
            "image/png": "[encoded data removed]",
            "text/plain": [
              "<Figure size 432x288 with 1 Axes>"
            ]
          },
          "metadata": {
            "tags": []
          }
        }
      ]
    },
    {
      "cell_type": "code",
      "metadata": {
        "id": "JQwJZ4csQ23K",
        "colab_type": "code",
        "colab": {}
      },
      "source": [
        ""
      ],
      "execution_count": 0,
      "outputs": []
    }
  ]
}