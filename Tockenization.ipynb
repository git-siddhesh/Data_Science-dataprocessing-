{
  "nbformat": 4,
  "nbformat_minor": 0,
  "metadata": {
    "colab": {
      "name": "Tockenization",
      "version": "0.3.2",
      "provenance": [],
      "collapsed_sections": [],
      "include_colab_link": true
    },
    "kernelspec": {
      "name": "python3",
      "display_name": "Python 3"
    }
  },
  "cells": [
    {
      "cell_type": "markdown",
      "metadata": {
        "id": "view-in-github",
        "colab_type": "text"
      },
      "source": [
        "<a href=\"https://colab.research.google.com/github/git-siddhesh/Data_Science-dataprocessing-/blob/supervisedML/Tockenization.ipynb\" target=\"_parent\"><img src=\"https://colab.research.google.com/assets/colab-badge.svg\" alt=\"Open In Colab\"/></a>"
      ]
    },
    {
      "cell_type": "code",
      "metadata": {
        "id": "bbnmdDjaQSgH",
        "colab_type": "code",
        "outputId": "f6ad5d56-2940-434c-bfc7-19fb87d4228c",
        "colab": {
          "base_uri": "https://localhost:8080/",
          "height": 50
        }
      },
      "source": [
        "msg='''\n",
        "Hii there this is siddhesh dosi?\n",
        "intern at adhoc networks. Its around a month i am learning ML and AI\n",
        "It is a sample of tockenization.\n",
        "So i am saying some bla bla bla. here is another \n",
        "some text.\n",
        "'''\n",
        "\n",
        "import nltk\n",
        "nltk.download('punkt')\n",
        "# import tokenizer\n",
        "from nltk.tokenize import sent_tokenize\n",
        "from nltk.tokenize import word_tokenize\n",
        "\n",
        "# sentence tokenize \n",
        "sent=sent_tokenize(msg)"
      ],
      "execution_count": 0,
      "outputs": [
        {
          "output_type": "stream",
          "text": [
            "[nltk_data] Downloading package punkt to /root/nltk_data...\n",
            "[nltk_data]   Unzipping tokenizers/punkt.zip.\n"
          ],
          "name": "stdout"
        }
      ]
    },
    {
      "cell_type": "code",
      "metadata": {
        "id": "_WXUPn9PYMl9",
        "colab_type": "code",
        "outputId": "62ae9c11-9024-4ad4-de8c-517ab404f0aa",
        "colab": {
          "base_uri": "https://localhost:8080/",
          "height": 33
        }
      },
      "source": [
        "len(sent)"
      ],
      "execution_count": 0,
      "outputs": [
        {
          "output_type": "execute_result",
          "data": {
            "text/plain": [
              "5"
            ]
          },
          "metadata": {
            "tags": []
          },
          "execution_count": 7
        }
      ]
    },
    {
      "cell_type": "code",
      "metadata": {
        "id": "uI3IrMTDYD0j",
        "colab_type": "code",
        "outputId": "c5a2cec2-8194-409b-8a7e-aefef536147b",
        "colab": {
          "base_uri": "https://localhost:8080/",
          "height": 33
        }
      },
      "source": [
        "word=word_tokenize(msg)\n",
        "len(word)"
      ],
      "execution_count": 0,
      "outputs": [
        {
          "output_type": "execute_result",
          "data": {
            "text/plain": [
              "44"
            ]
          },
          "metadata": {
            "tags": []
          },
          "execution_count": 8
        }
      ]
    },
    {
      "cell_type": "code",
      "metadata": {
        "id": "lS79gT9sYrc8",
        "colab_type": "code",
        "outputId": "7a4af241-c4bb-40f1-cd92-dd2ef3ec38b1",
        "colab": {
          "base_uri": "https://localhost:8080/",
          "height": 33
        }
      },
      "source": [
        "from nltk.corpus import stopwords\n",
        "newword=[i for i in word if i not in stopwords.words('english')]\n",
        "len(newword)"
      ],
      "execution_count": 0,
      "outputs": [
        {
          "output_type": "execute_result",
          "data": {
            "text/plain": [
              "27"
            ]
          },
          "metadata": {
            "tags": []
          },
          "execution_count": 10
        }
      ]
    },
    {
      "cell_type": "code",
      "metadata": {
        "id": "ef3f76N9Zjv8",
        "colab_type": "code",
        "outputId": "ac3eaba1-cf62-49c5-82e9-3cbc0ec11535",
        "colab": {
          "base_uri": "https://localhost:8080/",
          "height": 340
        }
      },
      "source": [
        "import nltk\n",
        "import matplotlib.pyplot as  plt\n",
        "nlp=nltk.FreqDist(word)\n",
        "nlp.plot()"
      ],
      "execution_count": 0,
      "outputs": [
        {
          "output_type": "display_data",
          "data": {
            "image/png": "[encoded data removed]",
            "text/plain": [
              "<Figure size 432x288 with 1 Axes>"
            ]
          },
          "metadata": {
            "tags": []
          }
        }
      ]
    },
    {
      "cell_type": "code",
      "metadata": {
        "id": "yMGPShmPaVGz",
        "colab_type": "code",
        "colab": {}
      },
      "source": [
        "0                                                                                                                                                                                                     "
      ],
      "execution_count": 0,
      "outputs": []
    }
  ]
}