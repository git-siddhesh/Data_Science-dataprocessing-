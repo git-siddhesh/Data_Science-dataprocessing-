{
  "nbformat": 4,
  "nbformat_minor": 0,
  "metadata": {
    "colab": {
      "name": "RandomForestRegression",
      "version": "0.3.2",
      "provenance": [],
      "collapsed_sections": [],
      "include_colab_link": true
    },
    "kernelspec": {
      "name": "python3",
      "display_name": "Python 3"
    }
  },
  "cells": [
    {
      "cell_type": "markdown",
      "metadata": {
        "id": "view-in-github",
        "colab_type": "text"
      },
      "source": [
        "<a href=\"https://colab.research.google.com/github/git-siddhesh/Data_Science-dataprocessing-/blob/supervisedML/RandomForestRegression.ipynb\" target=\"_parent\"><img src=\"https://colab.research.google.com/assets/colab-badge.svg\" alt=\"Open In Colab\"/></a>"
      ]
    },
    {
      "cell_type": "code",
      "metadata": {
        "id": "mUYvjl-vS4Fi",
        "colab_type": "code",
        "colab": {}
      },
      "source": [
        "'''live cricket data web scrap\n",
        "    find player record  no of ball run\n",
        "    Draw a linear model for no of balls'''\n",
        "\n",
        "# using randow forest\n",
        "\n",
        "import pandas as pd \n",
        "import matplotlib.pyplot as plt\n",
        "df=pd.read_csv(\"http://13.234.66.67/summer19/datasets/pos_sal.csv\")\n",
        "x=df.iloc[:,1:2].values\n",
        "y=df.iloc[:,2:].values\n",
        "\n",
        "# calling regression model of random forest\n",
        "from sklearn.ensemble import RandomForestRegressor\n",
        "regr=RandomForestRegressor()\n",
        "\n",
        "trained=regr.fit(x,y)\n"
      ],
      "execution_count": 0,
      "outputs": []
    },
    {
      "cell_type": "code",
      "metadata": {
        "id": "aUJqDG5TUCYf",
        "colab_type": "code",
        "colab": {}
      },
      "source": [
        "plt.xlabel(\"position\")\n",
        "plt.ylabel(\"salary\")\n",
        "plt.scatter(x,y,label=\"Actual kimik,j,jsalary\")\n",
        "plt.plot(x,trained.predict(x),label=\"Random forest regression\")\n",
        "plt.legend()"
      ],
      "execution_count": 0,
      "outputs": []
    },
    {
      "cell_type": "code",
      "metadata": {
        "id": "ko5ho6kJVJfh",
        "colab_type": "code",
        "colab": {}
      },
      "source": [
        ""
      ],
      "execution_count": 0,
      "outputs": []
    }
  ]
}